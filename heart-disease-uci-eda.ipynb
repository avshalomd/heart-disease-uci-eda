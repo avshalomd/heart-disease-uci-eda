{
 "cells": [
  {
   "cell_type": "code",
   "execution_count": 1,
   "id": "ba9e5a94",
   "metadata": {},
   "outputs": [],
   "source": [
    "%%capture\n",
    "!pip install kaggle"
   ]
  },
  {
   "cell_type": "code",
   "execution_count": 2,
   "id": "4288d20e",
   "metadata": {},
   "outputs": [
    {
     "name": "stdout",
     "output_type": "stream",
     "text": [
      "Warning: Your Kaggle API key is readable by other users on this system! To fix this, you can run 'chmod 600 /home/abshalom/.kaggle/kaggle.json'\n"
     ]
    }
   ],
   "source": [
    "import os\n",
    "import pandas as pd\n",
    "import matplotlib.pyplot as plt\n",
    "from kaggle.api.kaggle_api_extended import KaggleApi\n",
    "from shutil import copyfile\n",
    "from zipfile import ZipFile\n",
    "import seaborn as sns"
   ]
  },
  {
   "cell_type": "markdown",
   "id": "7374d46f",
   "metadata": {},
   "source": [
    "## Download database\n",
    "source: https://www.kaggle.com/ronitf/heart-disease-uci"
   ]
  },
  {
   "cell_type": "code",
   "execution_count": 3,
   "id": "4148c10a",
   "metadata": {},
   "outputs": [],
   "source": [
    "%%capture\n",
    "file_name = 'kaggle.json'\n",
    "src = file_name\n",
    "dst = os.path.join(os.path.expanduser(\"~\"), '.kaggle', file_name)\n",
    "copyfile(src, dst)\n",
    "api = KaggleApi()\n",
    "api.authenticate()"
   ]
  },
  {
   "cell_type": "code",
   "execution_count": 4,
   "id": "be722bb7",
   "metadata": {},
   "outputs": [],
   "source": [
    "api.dataset_download_files('ronitf/heart-disease-uci')\n",
    "zf = ZipFile('heart-disease-uci.zip')\n",
    "zf.extractall() \n",
    "zf.close()"
   ]
  },
  {
   "cell_type": "markdown",
   "id": "efe1a209",
   "metadata": {},
   "source": [
    "## Review data\n",
    "### Attribute Information:\n",
    "\n",
    "    target: heart disease (0 = no; 1 = yes)\n",
    "\n",
    "    1. age:      age\n",
    "    2. sex:      sex (0 = female; 1 = male)\n",
    "    3. cp:       chest pain type:\n",
    "                 -- 0 = typical angina\n",
    "                 -- 1 = atypical angina\n",
    "                 -- 2 = non-anginal pain \n",
    "                 -- 3 = asymptomatic\n",
    "    4. trestbps: resting blood pressure\n",
    "    5. chol:     serum cholestoral in mg/dl\n",
    "    6. fbs:      fasting blood sugar > 120 mg/dl (0 = false; 1 = true)\n",
    "    7. restecg:  resting electrocardiographic results:\n",
    "                 -- 0 = normal\n",
    "                 -- 1 = having ST-T wave abnormality\n",
    "                 -- 2 = showing probable or definite left ventricular hypertrophy by Estes' criteria\n",
    "    8. thalach:  maximum heart rate achieved\n",
    "    9. exang:    exercise induced angina (0 = no; 1 = yes)\n",
    "    10. oldpeak: ST depression induced by exercise relative to rest\n",
    "    11. slope:   the slope of the peak exercise ST segment:\n",
    "                 -- 0 = upsloping\n",
    "                 -- 1 = flat\n",
    "                 -- 2 = downsloping\n",
    "    12. ca:      number of major vessels (0-3) colored by flourosopy\n",
    "    13. thal:    3 = normal; 6 = fixed defect; 7 = reversable defect"
   ]
  },
  {
   "cell_type": "code",
   "execution_count": 5,
   "id": "4364fee6",
   "metadata": {},
   "outputs": [
    {
     "data": {
      "text/html": [
       "<div>\n",
       "<style scoped>\n",
       "    .dataframe tbody tr th:only-of-type {\n",
       "        vertical-align: middle;\n",
       "    }\n",
       "\n",
       "    .dataframe tbody tr th {\n",
       "        vertical-align: top;\n",
       "    }\n",
       "\n",
       "    .dataframe thead th {\n",
       "        text-align: right;\n",
       "    }\n",
       "</style>\n",
       "<table border=\"1\" class=\"dataframe\">\n",
       "  <thead>\n",
       "    <tr style=\"text-align: right;\">\n",
       "      <th></th>\n",
       "      <th>age</th>\n",
       "      <th>sex</th>\n",
       "      <th>cp</th>\n",
       "      <th>trestbps</th>\n",
       "      <th>chol</th>\n",
       "      <th>fbs</th>\n",
       "      <th>restecg</th>\n",
       "      <th>thalach</th>\n",
       "      <th>exang</th>\n",
       "      <th>oldpeak</th>\n",
       "      <th>slope</th>\n",
       "      <th>ca</th>\n",
       "      <th>thal</th>\n",
       "      <th>target</th>\n",
       "    </tr>\n",
       "  </thead>\n",
       "  <tbody>\n",
       "    <tr>\n",
       "      <th>0</th>\n",
       "      <td>63</td>\n",
       "      <td>1</td>\n",
       "      <td>3</td>\n",
       "      <td>145</td>\n",
       "      <td>233</td>\n",
       "      <td>1</td>\n",
       "      <td>0</td>\n",
       "      <td>150</td>\n",
       "      <td>0</td>\n",
       "      <td>2.3</td>\n",
       "      <td>0</td>\n",
       "      <td>0</td>\n",
       "      <td>1</td>\n",
       "      <td>1</td>\n",
       "    </tr>\n",
       "    <tr>\n",
       "      <th>1</th>\n",
       "      <td>37</td>\n",
       "      <td>1</td>\n",
       "      <td>2</td>\n",
       "      <td>130</td>\n",
       "      <td>250</td>\n",
       "      <td>0</td>\n",
       "      <td>1</td>\n",
       "      <td>187</td>\n",
       "      <td>0</td>\n",
       "      <td>3.5</td>\n",
       "      <td>0</td>\n",
       "      <td>0</td>\n",
       "      <td>2</td>\n",
       "      <td>1</td>\n",
       "    </tr>\n",
       "    <tr>\n",
       "      <th>2</th>\n",
       "      <td>41</td>\n",
       "      <td>0</td>\n",
       "      <td>1</td>\n",
       "      <td>130</td>\n",
       "      <td>204</td>\n",
       "      <td>0</td>\n",
       "      <td>0</td>\n",
       "      <td>172</td>\n",
       "      <td>0</td>\n",
       "      <td>1.4</td>\n",
       "      <td>2</td>\n",
       "      <td>0</td>\n",
       "      <td>2</td>\n",
       "      <td>1</td>\n",
       "    </tr>\n",
       "    <tr>\n",
       "      <th>3</th>\n",
       "      <td>56</td>\n",
       "      <td>1</td>\n",
       "      <td>1</td>\n",
       "      <td>120</td>\n",
       "      <td>236</td>\n",
       "      <td>0</td>\n",
       "      <td>1</td>\n",
       "      <td>178</td>\n",
       "      <td>0</td>\n",
       "      <td>0.8</td>\n",
       "      <td>2</td>\n",
       "      <td>0</td>\n",
       "      <td>2</td>\n",
       "      <td>1</td>\n",
       "    </tr>\n",
       "    <tr>\n",
       "      <th>4</th>\n",
       "      <td>57</td>\n",
       "      <td>0</td>\n",
       "      <td>0</td>\n",
       "      <td>120</td>\n",
       "      <td>354</td>\n",
       "      <td>0</td>\n",
       "      <td>1</td>\n",
       "      <td>163</td>\n",
       "      <td>1</td>\n",
       "      <td>0.6</td>\n",
       "      <td>2</td>\n",
       "      <td>0</td>\n",
       "      <td>2</td>\n",
       "      <td>1</td>\n",
       "    </tr>\n",
       "  </tbody>\n",
       "</table>\n",
       "</div>"
      ],
      "text/plain": [
       "   age  sex  cp  trestbps  chol  fbs  restecg  thalach  exang  oldpeak  slope  \\\n",
       "0   63    1   3       145   233    1        0      150      0      2.3      0   \n",
       "1   37    1   2       130   250    0        1      187      0      3.5      0   \n",
       "2   41    0   1       130   204    0        0      172      0      1.4      2   \n",
       "3   56    1   1       120   236    0        1      178      0      0.8      2   \n",
       "4   57    0   0       120   354    0        1      163      1      0.6      2   \n",
       "\n",
       "   ca  thal  target  \n",
       "0   0     1       1  \n",
       "1   0     2       1  \n",
       "2   0     2       1  \n",
       "3   0     2       1  \n",
       "4   0     2       1  "
      ]
     },
     "execution_count": 5,
     "metadata": {},
     "output_type": "execute_result"
    }
   ],
   "source": [
    "df=pd.read_csv('heart.csv')\n",
    "df.head()"
   ]
  },
  {
   "cell_type": "markdown",
   "id": "984a7aaf",
   "metadata": {},
   "source": [
    "* 13 features and 1 target in 303 samples"
   ]
  },
  {
   "cell_type": "code",
   "execution_count": 6,
   "id": "c14c4347",
   "metadata": {},
   "outputs": [
    {
     "data": {
      "text/plain": [
       "(303, 14)"
      ]
     },
     "execution_count": 6,
     "metadata": {},
     "output_type": "execute_result"
    }
   ],
   "source": [
    "df.shape"
   ]
  },
  {
   "cell_type": "markdown",
   "id": "026e915d",
   "metadata": {},
   "source": [
    "* all numerical values (even though most of them are attributes - sex for instance is male/female)"
   ]
  },
  {
   "cell_type": "code",
   "execution_count": 7,
   "id": "48d085e1",
   "metadata": {},
   "outputs": [
    {
     "name": "stdout",
     "output_type": "stream",
     "text": [
      "<class 'pandas.core.frame.DataFrame'>\n",
      "RangeIndex: 303 entries, 0 to 302\n",
      "Data columns (total 14 columns):\n",
      " #   Column    Non-Null Count  Dtype  \n",
      "---  ------    --------------  -----  \n",
      " 0   age       303 non-null    int64  \n",
      " 1   sex       303 non-null    int64  \n",
      " 2   cp        303 non-null    int64  \n",
      " 3   trestbps  303 non-null    int64  \n",
      " 4   chol      303 non-null    int64  \n",
      " 5   fbs       303 non-null    int64  \n",
      " 6   restecg   303 non-null    int64  \n",
      " 7   thalach   303 non-null    int64  \n",
      " 8   exang     303 non-null    int64  \n",
      " 9   oldpeak   303 non-null    float64\n",
      " 10  slope     303 non-null    int64  \n",
      " 11  ca        303 non-null    int64  \n",
      " 12  thal      303 non-null    int64  \n",
      " 13  target    303 non-null    int64  \n",
      "dtypes: float64(1), int64(13)\n",
      "memory usage: 33.3 KB\n"
     ]
    }
   ],
   "source": [
    "df.info()"
   ]
  },
  {
   "cell_type": "markdown",
   "id": "95ed5c1d",
   "metadata": {},
   "source": [
    "### Target attribute"
   ]
  },
  {
   "cell_type": "markdown",
   "id": "d3bce97d",
   "metadata": {},
   "source": [
    "* target: heart disease (0 = no, 1 = yes)\n",
    "* **~54.5%** have heart disease, **~45.5%** don't"
   ]
  },
  {
   "cell_type": "code",
   "execution_count": 8,
   "id": "20ee7ec0",
   "metadata": {},
   "outputs": [
    {
     "data": {
      "text/plain": [
       "array([1, 0])"
      ]
     },
     "execution_count": 8,
     "metadata": {},
     "output_type": "execute_result"
    }
   ],
   "source": [
    "df.target.unique()"
   ]
  },
  {
   "cell_type": "code",
   "execution_count": 9,
   "id": "fbfda112",
   "metadata": {},
   "outputs": [
    {
     "data": {
      "text/plain": [
       "1    0.544554\n",
       "0    0.455446\n",
       "Name: target, dtype: float64"
      ]
     },
     "execution_count": 9,
     "metadata": {},
     "output_type": "execute_result"
    }
   ],
   "source": [
    "df.target.value_counts(normalize = True)"
   ]
  },
  {
   "cell_type": "code",
   "execution_count": 10,
   "id": "689052c9",
   "metadata": {},
   "outputs": [
    {
     "data": {
      "image/png": "[encoded data removed]",
      "text/plain": [
       "<Figure size 432x288 with 1 Axes>"
      ]
     },
     "metadata": {},
     "output_type": "display_data"
    }
   ],
   "source": [
    "df.target.value_counts().plot(kind='pie', title='Target attribute distribution');"
   ]
  },
  {
   "cell_type": "markdown",
   "id": "2737ae6f",
   "metadata": {},
   "source": [
    "### Non-numerical attributes"
   ]
  },
  {
   "cell_type": "markdown",
   "id": "ab69b746",
   "metadata": {},
   "source": [
    "* sex (0 = female; 1 = male)\n",
    "* **~68%** male, **~32%** female"
   ]
  },
  {
   "cell_type": "code",
   "execution_count": 11,
   "id": "4e6125f3",
   "metadata": {},
   "outputs": [
    {
     "data": {
      "text/plain": [
       "array([1, 0])"
      ]
     },
     "execution_count": 11,
     "metadata": {},
     "output_type": "execute_result"
    }
   ],
   "source": [
    "df.sex.unique()"
   ]
  },
  {
   "cell_type": "code",
   "execution_count": 12,
   "id": "3658fdff",
   "metadata": {},
   "outputs": [
    {
     "data": {
      "text/plain": [
       "1    0.683168\n",
       "0    0.316832\n",
       "Name: sex, dtype: float64"
      ]
     },
     "execution_count": 12,
     "metadata": {},
     "output_type": "execute_result"
    }
   ],
   "source": [
    "df.sex.value_counts(normalize = True)"
   ]
  },
  {
   "cell_type": "code",
   "execution_count": 13,
   "id": "3bb7ccac",
   "metadata": {},
   "outputs": [
    {
     "data": {
      "image/png": "[encoded data removed]",
      "text/plain": [
       "<Figure size 432x288 with 1 Axes>"
      ]
     },
     "metadata": {},
     "output_type": "display_data"
    }
   ],
   "source": [
    "df.sex.value_counts().plot(kind='pie', title='Sex attribute distribution');"
   ]
  },
  {
   "cell_type": "markdown",
   "id": "ecaf8f3d",
   "metadata": {},
   "source": [
    "* chest pain type (0 = typical angina; 1 = atypical angina; 2 = non-anginal pain; 3 = asymptomatic)\n",
    "* **~47%** typical angina, **~29%** non-anginal pain, **16.5%** atypical angina, **7.5%** asymptomatic"
   ]
  },
  {
   "cell_type": "code",
   "execution_count": 14,
   "id": "ea2db7db",
   "metadata": {},
   "outputs": [
    {
     "data": {
      "text/plain": [
       "array([3, 2, 1, 0])"
      ]
     },
     "execution_count": 14,
     "metadata": {},
     "output_type": "execute_result"
    }
   ],
   "source": [
    "df.cp.unique()"
   ]
  },
  {
   "cell_type": "code",
   "execution_count": 15,
   "id": "a37e7d57",
   "metadata": {},
   "outputs": [
    {
     "data": {
      "text/plain": [
       "0    0.471947\n",
       "2    0.287129\n",
       "1    0.165017\n",
       "3    0.075908\n",
       "Name: cp, dtype: float64"
      ]
     },
     "execution_count": 15,
     "metadata": {},
     "output_type": "execute_result"
    }
   ],
   "source": [
    "df.cp.value_counts(normalize = True)"
   ]
  },
  {
   "cell_type": "code",
   "execution_count": 16,
   "id": "fd7d3f7c",
   "metadata": {},
   "outputs": [
    {
     "data": {
      "image/png": "[encoded data removed]",
      "text/plain": [
       "<Figure size 432x288 with 1 Axes>"
      ]
     },
     "metadata": {},
     "output_type": "display_data"
    }
   ],
   "source": [
    "df.cp.value_counts().plot(kind='pie', title='Chest pain attribute distribution');"
   ]
  },
  {
   "cell_type": "markdown",
   "id": "a8e2fb48",
   "metadata": {},
   "source": [
    "* fasting blood sugar > 120 mg/dl (0 = false; 1 = true)\n",
    "* **~85%** low fbs, **~15%** high fbs"
   ]
  },
  {
   "cell_type": "code",
   "execution_count": 17,
   "id": "898d9275",
   "metadata": {},
   "outputs": [
    {
     "data": {
      "text/plain": [
       "array([1, 0])"
      ]
     },
     "execution_count": 17,
     "metadata": {},
     "output_type": "execute_result"
    }
   ],
   "source": [
    "df.fbs.unique()"
   ]
  },
  {
   "cell_type": "code",
   "execution_count": 18,
   "id": "2586f773",
   "metadata": {},
   "outputs": [
    {
     "data": {
      "text/plain": [
       "0    0.851485\n",
       "1    0.148515\n",
       "Name: fbs, dtype: float64"
      ]
     },
     "execution_count": 18,
     "metadata": {},
     "output_type": "execute_result"
    }
   ],
   "source": [
    "df.fbs.value_counts(normalize = True)"
   ]
  },
  {
   "cell_type": "code",
   "execution_count": 19,
   "id": "14b80a12",
   "metadata": {},
   "outputs": [
    {
     "data": {
      "image/png": "[encoded data removed]",
      "text/plain": [
       "<Figure size 432x288 with 1 Axes>"
      ]
     },
     "metadata": {},
     "output_type": "display_data"
    }
   ],
   "source": [
    "df.fbs.value_counts().plot(kind='pie', title='FBS attribute distribution');"
   ]
  },
  {
   "cell_type": "markdown",
   "id": "3946dcac",
   "metadata": {},
   "source": [
    "* resting electrocardiographic results (0 = normal; 1 = having ST-T wave abnormality; 2 = showing probable or definite left ventricular hypertrophy by Estes' criteria)\n",
    "* **~50%** ST-T wave abnormality, **~48.5%** normal, **~1.3%** showing probable or definite left ventricular hypertrophy by Estes' criteria"
   ]
  },
  {
   "cell_type": "code",
   "execution_count": 20,
   "id": "b75e1bc4",
   "metadata": {},
   "outputs": [
    {
     "data": {
      "text/plain": [
       "array([0, 1, 2])"
      ]
     },
     "execution_count": 20,
     "metadata": {},
     "output_type": "execute_result"
    }
   ],
   "source": [
    "df.restecg.unique()"
   ]
  },
  {
   "cell_type": "code",
   "execution_count": 21,
   "id": "cc52f8fc",
   "metadata": {},
   "outputs": [
    {
     "data": {
      "text/plain": [
       "1    0.501650\n",
       "0    0.485149\n",
       "2    0.013201\n",
       "Name: restecg, dtype: float64"
      ]
     },
     "execution_count": 21,
     "metadata": {},
     "output_type": "execute_result"
    }
   ],
   "source": [
    "df.restecg.value_counts(normalize = True)"
   ]
  },
  {
   "cell_type": "code",
   "execution_count": 22,
   "id": "c5fa5860",
   "metadata": {},
   "outputs": [
    {
     "data": {
      "image/png": "[encoded data removed]",
      "text/plain": [
       "<Figure size 432x288 with 1 Axes>"
      ]
     },
     "metadata": {},
     "output_type": "display_data"
    }
   ],
   "source": [
    "df.restecg.value_counts().plot(kind='pie', title='Resting ECG results attribute distribution');"
   ]
  },
  {
   "cell_type": "markdown",
   "id": "5acb46e3",
   "metadata": {},
   "source": [
    "* exercise induced angina (0 = no; 1 = yes)\n",
    "* **~67%** with no exercise induced angina, **~33%** with exercise induced angina"
   ]
  },
  {
   "cell_type": "code",
   "execution_count": 23,
   "id": "f658cf7b",
   "metadata": {},
   "outputs": [
    {
     "data": {
      "text/plain": [
       "array([0, 1])"
      ]
     },
     "execution_count": 23,
     "metadata": {},
     "output_type": "execute_result"
    }
   ],
   "source": [
    "df.exang.unique()"
   ]
  },
  {
   "cell_type": "code",
   "execution_count": 24,
   "id": "65c706ec",
   "metadata": {},
   "outputs": [
    {
     "data": {
      "text/plain": [
       "0    0.673267\n",
       "1    0.326733\n",
       "Name: exang, dtype: float64"
      ]
     },
     "execution_count": 24,
     "metadata": {},
     "output_type": "execute_result"
    }
   ],
   "source": [
    "df.exang.value_counts(normalize = True)"
   ]
  },
  {
   "cell_type": "code",
   "execution_count": 25,
   "id": "a9119923",
   "metadata": {},
   "outputs": [
    {
     "data": {
      "image/png": "[encoded data removed]",
      "text/plain": [
       "<Figure size 432x288 with 1 Axes>"
      ]
     },
     "metadata": {},
     "output_type": "display_data"
    }
   ],
   "source": [
    "df.exang.value_counts().plot(kind='pie', title='Exercise induced angina attribute distribution');"
   ]
  },
  {
   "cell_type": "markdown",
   "id": "a62c3c8b",
   "metadata": {},
   "source": [
    "* the slope of the peak exercise ST segment (0 = upsloping; 1 = flat; 2 = downsloping)\n",
    "* **~47%** of the peak exercise ST segments were downslops, **~46%** of the peak exercise ST segments were flat and **~7%** of the peak exercise ST segments were upslopes"
   ]
  },
  {
   "cell_type": "code",
   "execution_count": 26,
   "id": "deffcc33",
   "metadata": {},
   "outputs": [
    {
     "data": {
      "text/plain": [
       "array([0, 2, 1])"
      ]
     },
     "execution_count": 26,
     "metadata": {},
     "output_type": "execute_result"
    }
   ],
   "source": [
    "df.slope.unique()"
   ]
  },
  {
   "cell_type": "code",
   "execution_count": 27,
   "id": "4f53064c",
   "metadata": {},
   "outputs": [
    {
     "data": {
      "text/plain": [
       "2    0.468647\n",
       "1    0.462046\n",
       "0    0.069307\n",
       "Name: slope, dtype: float64"
      ]
     },
     "execution_count": 27,
     "metadata": {},
     "output_type": "execute_result"
    }
   ],
   "source": [
    "df.slope.value_counts(normalize = True)"
   ]
  },
  {
   "cell_type": "code",
   "execution_count": 28,
   "id": "d2c7adc5",
   "metadata": {},
   "outputs": [
    {
     "data": {
      "image/png": "[encoded data removed]",
      "text/plain": [
       "<Figure size 432x288 with 1 Axes>"
      ]
     },
     "metadata": {},
     "output_type": "display_data"
    }
   ],
   "source": [
    "df.slope.value_counts().plot(kind='pie', title='Slope attribute distribution');"
   ]
  },
  {
   "cell_type": "markdown",
   "id": "52b6dc9a",
   "metadata": {},
   "source": [
    "* number of major vessels colored by flourosopy (0 = 0 vessels; 1 = 1 vessel; 2 = 2 vessels; 3 = 3 vessels; 4 = ???)\n",
    "* **~58%, ~21%, ~12.5% ~6.6%, ~1.6%** for 0, 1, 2, 3, 4 vessels correspondingly"
   ]
  },
  {
   "cell_type": "code",
   "execution_count": 34,
   "id": "e2b52264",
   "metadata": {},
   "outputs": [
    {
     "data": {
      "text/plain": [
       "array([0, 2, 1, 3, 4])"
      ]
     },
     "execution_count": 34,
     "metadata": {},
     "output_type": "execute_result"
    }
   ],
   "source": [
    "df.ca.unique() # doesn't comply to dataset description"
   ]
  },
  {
   "cell_type": "code",
   "execution_count": 35,
   "id": "2d9949a9",
   "metadata": {},
   "outputs": [
    {
     "data": {
      "text/plain": [
       "0    0.577558\n",
       "1    0.214521\n",
       "2    0.125413\n",
       "3    0.066007\n",
       "4    0.016502\n",
       "Name: ca, dtype: float64"
      ]
     },
     "execution_count": 35,
     "metadata": {},
     "output_type": "execute_result"
    }
   ],
   "source": [
    "df.ca.value_counts(normalize = True)"
   ]
  },
  {
   "cell_type": "code",
   "execution_count": 36,
   "id": "e75ac56e",
   "metadata": {},
   "outputs": [
    {
     "data": {
      "image/png": "[encoded data removed]",
      "text/plain": [
       "<Figure size 432x288 with 1 Axes>"
      ]
     },
     "metadata": {},
     "output_type": "display_data"
    }
   ],
   "source": [
    "df.ca.value_counts().plot(kind='pie', title='# major vessels colored by flourosopy attribute distribution');"
   ]
  },
  {
   "cell_type": "code",
   "execution_count": 29,
   "id": "1e94d03b",
   "metadata": {},
   "outputs": [
    {
     "data": {
      "text/plain": [
       "array([1, 2, 3, 0])"
      ]
     },
     "execution_count": 29,
     "metadata": {},
     "output_type": "execute_result"
    }
   ],
   "source": [
    "df.thal.unique()  # doesn't comply to dataset description"
   ]
  },
  {
   "cell_type": "markdown",
   "id": "42ba5010",
   "metadata": {},
   "source": [
    "* some important stats on numerical attributes"
   ]
  },
  {
   "cell_type": "markdown",
   "id": "8a86f56f",
   "metadata": {},
   "source": [
    "### Numerical attributes"
   ]
  },
  {
   "cell_type": "code",
   "execution_count": 37,
   "id": "9fbb5dae",
   "metadata": {},
   "outputs": [
    {
     "data": {
      "text/html": [
       "<div>\n",
       "<style scoped>\n",
       "    .dataframe tbody tr th:only-of-type {\n",
       "        vertical-align: middle;\n",
       "    }\n",
       "\n",
       "    .dataframe tbody tr th {\n",
       "        vertical-align: top;\n",
       "    }\n",
       "\n",
       "    .dataframe thead th {\n",
       "        text-align: right;\n",
       "    }\n",
       "</style>\n",
       "<table border=\"1\" class=\"dataframe\">\n",
       "  <thead>\n",
       "    <tr style=\"text-align: right;\">\n",
       "      <th></th>\n",
       "      <th>age</th>\n",
       "      <th>trestbps</th>\n",
       "      <th>chol</th>\n",
       "      <th>thalach</th>\n",
       "      <th>oldpeak</th>\n",
       "    </tr>\n",
       "  </thead>\n",
       "  <tbody>\n",
       "    <tr>\n",
       "      <th>count</th>\n",
       "      <td>303.000000</td>\n",
       "      <td>303.000000</td>\n",
       "      <td>303.000000</td>\n",
       "      <td>303.000000</td>\n",
       "      <td>303.000000</td>\n",
       "    </tr>\n",
       "    <tr>\n",
       "      <th>mean</th>\n",
       "      <td>54.366337</td>\n",
       "      <td>131.623762</td>\n",
       "      <td>246.264026</td>\n",
       "      <td>149.646865</td>\n",
       "      <td>1.039604</td>\n",
       "    </tr>\n",
       "    <tr>\n",
       "      <th>std</th>\n",
       "      <td>9.082101</td>\n",
       "      <td>17.538143</td>\n",
       "      <td>51.830751</td>\n",
       "      <td>22.905161</td>\n",
       "      <td>1.161075</td>\n",
       "    </tr>\n",
       "    <tr>\n",
       "      <th>min</th>\n",
       "      <td>29.000000</td>\n",
       "      <td>94.000000</td>\n",
       "      <td>126.000000</td>\n",
       "      <td>71.000000</td>\n",
       "      <td>0.000000</td>\n",
       "    </tr>\n",
       "    <tr>\n",
       "      <th>25%</th>\n",
       "      <td>47.500000</td>\n",
       "      <td>120.000000</td>\n",
       "      <td>211.000000</td>\n",
       "      <td>133.500000</td>\n",
       "      <td>0.000000</td>\n",
       "    </tr>\n",
       "    <tr>\n",
       "      <th>50%</th>\n",
       "      <td>55.000000</td>\n",
       "      <td>130.000000</td>\n",
       "      <td>240.000000</td>\n",
       "      <td>153.000000</td>\n",
       "      <td>0.800000</td>\n",
       "    </tr>\n",
       "    <tr>\n",
       "      <th>75%</th>\n",
       "      <td>61.000000</td>\n",
       "      <td>140.000000</td>\n",
       "      <td>274.500000</td>\n",
       "      <td>166.000000</td>\n",
       "      <td>1.600000</td>\n",
       "    </tr>\n",
       "    <tr>\n",
       "      <th>max</th>\n",
       "      <td>77.000000</td>\n",
       "      <td>200.000000</td>\n",
       "      <td>564.000000</td>\n",
       "      <td>202.000000</td>\n",
       "      <td>6.200000</td>\n",
       "    </tr>\n",
       "  </tbody>\n",
       "</table>\n",
       "</div>"
      ],
      "text/plain": [
       "              age    trestbps        chol     thalach     oldpeak\n",
       "count  303.000000  303.000000  303.000000  303.000000  303.000000\n",
       "mean    54.366337  131.623762  246.264026  149.646865    1.039604\n",
       "std      9.082101   17.538143   51.830751   22.905161    1.161075\n",
       "min     29.000000   94.000000  126.000000   71.000000    0.000000\n",
       "25%     47.500000  120.000000  211.000000  133.500000    0.000000\n",
       "50%     55.000000  130.000000  240.000000  153.000000    0.800000\n",
       "75%     61.000000  140.000000  274.500000  166.000000    1.600000\n",
       "max     77.000000  200.000000  564.000000  202.000000    6.200000"
      ]
     },
     "execution_count": 37,
     "metadata": {},
     "output_type": "execute_result"
    }
   ],
   "source": [
    "cols = ['age', 'trestbps', 'chol', 'thalach', 'oldpeak']\n",
    "df[cols].describe()"
   ]
  },
  {
   "cell_type": "code",
   "execution_count": 38,
   "id": "0361ad47",
   "metadata": {},
   "outputs": [
    {
     "data": {
      "text/html": [
       "<div>\n",
       "<style scoped>\n",
       "    .dataframe tbody tr th:only-of-type {\n",
       "        vertical-align: middle;\n",
       "    }\n",
       "\n",
       "    .dataframe tbody tr th {\n",
       "        vertical-align: top;\n",
       "    }\n",
       "\n",
       "    .dataframe thead th {\n",
       "        text-align: right;\n",
       "    }\n",
       "</style>\n",
       "<table border=\"1\" class=\"dataframe\">\n",
       "  <thead>\n",
       "    <tr style=\"text-align: right;\">\n",
       "      <th></th>\n",
       "      <th>age</th>\n",
       "      <th>trestbps</th>\n",
       "      <th>chol</th>\n",
       "      <th>thalach</th>\n",
       "      <th>oldpeak</th>\n",
       "      <th>target</th>\n",
       "    </tr>\n",
       "  </thead>\n",
       "  <tbody>\n",
       "    <tr>\n",
       "      <th>age</th>\n",
       "      <td>1.000000</td>\n",
       "      <td>0.279351</td>\n",
       "      <td>0.213678</td>\n",
       "      <td>-0.398522</td>\n",
       "      <td>0.210013</td>\n",
       "      <td>-0.225439</td>\n",
       "    </tr>\n",
       "    <tr>\n",
       "      <th>trestbps</th>\n",
       "      <td>0.279351</td>\n",
       "      <td>1.000000</td>\n",
       "      <td>0.123174</td>\n",
       "      <td>-0.046698</td>\n",
       "      <td>0.193216</td>\n",
       "      <td>-0.144931</td>\n",
       "    </tr>\n",
       "    <tr>\n",
       "      <th>chol</th>\n",
       "      <td>0.213678</td>\n",
       "      <td>0.123174</td>\n",
       "      <td>1.000000</td>\n",
       "      <td>-0.009940</td>\n",
       "      <td>0.053952</td>\n",
       "      <td>-0.085239</td>\n",
       "    </tr>\n",
       "    <tr>\n",
       "      <th>thalach</th>\n",
       "      <td>-0.398522</td>\n",
       "      <td>-0.046698</td>\n",
       "      <td>-0.009940</td>\n",
       "      <td>1.000000</td>\n",
       "      <td>-0.344187</td>\n",
       "      <td>0.421741</td>\n",
       "    </tr>\n",
       "    <tr>\n",
       "      <th>oldpeak</th>\n",
       "      <td>0.210013</td>\n",
       "      <td>0.193216</td>\n",
       "      <td>0.053952</td>\n",
       "      <td>-0.344187</td>\n",
       "      <td>1.000000</td>\n",
       "      <td>-0.430696</td>\n",
       "    </tr>\n",
       "    <tr>\n",
       "      <th>target</th>\n",
       "      <td>-0.225439</td>\n",
       "      <td>-0.144931</td>\n",
       "      <td>-0.085239</td>\n",
       "      <td>0.421741</td>\n",
       "      <td>-0.430696</td>\n",
       "      <td>1.000000</td>\n",
       "    </tr>\n",
       "  </tbody>\n",
       "</table>\n",
       "</div>"
      ],
      "text/plain": [
       "               age  trestbps      chol   thalach   oldpeak    target\n",
       "age       1.000000  0.279351  0.213678 -0.398522  0.210013 -0.225439\n",
       "trestbps  0.279351  1.000000  0.123174 -0.046698  0.193216 -0.144931\n",
       "chol      0.213678  0.123174  1.000000 -0.009940  0.053952 -0.085239\n",
       "thalach  -0.398522 -0.046698 -0.009940  1.000000 -0.344187  0.421741\n",
       "oldpeak   0.210013  0.193216  0.053952 -0.344187  1.000000 -0.430696\n",
       "target   -0.225439 -0.144931 -0.085239  0.421741 -0.430696  1.000000"
      ]
     },
     "execution_count": 38,
     "metadata": {},
     "output_type": "execute_result"
    }
   ],
   "source": [
    "cols.append('target')\n",
    "df[cols].corr()"
   ]
  },
  {
   "cell_type": "code",
   "execution_count": 46,
   "id": "3d544f7b",
   "metadata": {},
   "outputs": [
    {
     "data": {
      "image/png": "[encoded data removed]",
      "text/plain": [
       "<Figure size 942.375x900 with 30 Axes>"
      ]
     },
     "metadata": {
      "needs_background": "light"
     },
     "output_type": "display_data"
    }
   ],
   "source": [
    "sns.pairplot(df[cols], hue='target', kind='hist');"
   ]
  },
  {
   "cell_type": "code",
   "execution_count": null,
   "id": "0730ecaa",
   "metadata": {},
   "outputs": [],
   "source": []
  }
 ],
 "metadata": {
  "kernelspec": {
   "display_name": "Python 3",
   "language": "python",
   "name": "python3"
  },
  "language_info": {
   "codemirror_mode": {
    "name": "ipython",
    "version": 3
   },
   "file_extension": ".py",
   "mimetype": "text/x-python",
   "name": "python",
   "nbconvert_exporter": "python",
   "pygments_lexer": "ipython3",
   "version": "3.9.5"
  }
 },
 "nbformat": 4,
 "nbformat_minor": 5
}
